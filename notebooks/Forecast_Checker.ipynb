{
 "cells": [
  {
   "cell_type": "markdown",
   "metadata": {},
   "source": [
    "# Forecast Checker\n",
    "\n",
    "These notebooks make use of a python package I developed to interpret the performance of a timeseries forecast. \n",
    "\n",
    "Typically, when forecasting a timeseries, we want to understand the performance of the e.g. 1, 5, 10, 20-step forecasting performance. We expect forecasting performance to degrade with the forecast length but the measure of a good forecaster over a bad one might be how far ahead we can make reliable forward predictions before the performance degrades to below some threshold.\n",
    "\n",
    "A common timeseries forecasting approach utilises features common to many natural and socioeconomic processes:\n",
    "\n",
    "1) The next value depends directly on the previous (auto regressive)\n",
    "\n",
    "2) Or indirectly responds to some earlier shock (moving average). \n",
    "\n",
    "We often also find that timeseries are non-stationary and require differencing or modeling of exogeneous variables.\n",
    "This notebook uses a custom-built class to generate synthetic data for timeseries modeling based on an ARMA process\n",
    "with polynomial exogeneous variables.\n",
    "\n",
    "We then use the Forecast Checker class to evaluate its performance."
   ]
  },
  {
   "cell_type": "markdown",
   "metadata": {},
   "source": [
    "## Generate Synthetic Data"
   ]
  },
  {
   "cell_type": "code",
   "execution_count": null,
   "metadata": {},
   "outputs": [],
   "source": [
    "#Import dependencies\n",
    "from arima_exog import *\n",
    "import matploltib.pylab as plt"
   ]
  },
  {
   "cell_type": "code",
   "execution_count": null,
   "metadata": {},
   "outputs": [],
   "source": [
    "#Generate synthetic timeseries process\n",
    "Nepochs = 1000\n",
    "forecast_step = 200\n",
    "synth = generate_synthetic_data(polynomial_exog_coef = [0.0,0.005],\n",
    "                        Nepochs = Nepochs,\n",
    "                        forecast_step = forecast_step,\n",
    "                        synthetic_class = Custom_ARIMA(seed=12345),\n",
    "                        synthetic_kwargs = {'arparms':[0.75, -0.25],\n",
    "                                            'maparms':[0.65, 0.35]})\n",
    "y_test = synth['y_full']\n",
    "y_test_arima = synth['y_arima']\n",
    "yex = synth['y_eXog']\n",
    "eXog_test = synth['eXog_features']\n"
   ]
  },
  {
   "cell_type": "code",
   "execution_count": null,
   "metadata": {},
   "outputs": [],
   "source": [
    "#Perform a model fit and generate predictions 200 time steps ahead\n",
    "cl2 = Custom_ARIMA(seed=12345)\n",
    "cl2.fit(y_test[:Nepochs], eXog=eXog_test[:Nepochs, :])\n",
    "y_pred = cl2.predict(steps=forecast_step, eXog=eXog_test[Nepochs:, :])"
   ]
  },
  {
   "cell_type": "code",
   "execution_count": null,
   "metadata": {},
   "outputs": [],
   "source": [
    "# plot the exogeneous and arima components and overlay the prediction\n",
    "t = np.arange(len(yex))\n",
    "fig = plt.figure()\n",
    "ax1 = fig.add_subplot(311)\n",
    "ax1.plot(t, y_test_arima, label='arima process')\n",
    "ax1.set_xlabel('time')\n",
    "ax1.set_ylabel('arima')\n",
    "\n",
    "ax1 = fig.add_subplot(312)\n",
    "ax1.plot(t, yex, label='exogenious time series')\n",
    "ax1.set_xlabel('time')\n",
    "ax1.set_ylabel('exog')\n",
    "\n",
    "ax1 = fig.add_subplot(313)\n",
    "ax1.plot(t, y_test, label='combined time series')\n",
    "ax1.plot(t[Nepochs:], y_pred, label='predicted')\n",
    "ax1.set_xlabel('time')\n",
    "ax1.set_ylabel('All')\n",
    "ax1.set_xlim([990,1100])\n",
    "\n",
    "plt.savefig('arima_test.png')\n",
    "plt.close()"
   ]
  },
  {
   "cell_type": "markdown",
   "metadata": {},
   "source": [
    "# Multi-step forecast performance evaluation\n",
    "\n",
    "Themain purpose of forecast checker is to iteratively chop and blind forecast the input timeseries to approximate the performance correlation coefficient as a function of forecast step. This can be costly in terms of cpu time as we have to continuously refit the model on a new dataset each time points are removed. This process is wrapped up in the handy class below."
   ]
  },
  {
   "cell_type": "code",
   "execution_count": null,
   "metadata": {},
   "outputs": [],
   "source": [
    "#encode the input timeseries y, eXogeneous variables (None if none) and time series model \n",
    "#(must have .fit(y, eXog=) .predict(Nsteps, eXog=) arguments similar to stats models)\n",
    "ep = evaluate_performance(eXog_test, y_test, model=Custom_ARIMA,\n",
    "                 kwargs_for_model={'round':False},\n",
    "                 kwargs_for_fit={'parms': (2, 0, 2)},\n",
    "                 kwargs_for_predict={'steps': 10},\n",
    "                 verbose=False, Nsteps=10, Ntests=10)\n",
    "#perform the evaluation\n",
    "ep.evaluate()\n",
    "\n",
    "#correlation vs forecast step saved in evaluation dictionary\n",
    "correlations = ep.evaluation['correlations']\n",
    "\n",
    "#plot the correlation performance and show the correlations for the 1, 5 and 10-step forecasts\n",
    "ep.make_performance_plot(file='test_eval_plot.png',step_plots = [1, 5, 10])"
   ]
  }
 ],
 "metadata": {
  "kernelspec": {
   "display_name": "Python 3",
   "language": "python",
   "name": "python3"
  },
  "language_info": {
   "codemirror_mode": {
    "name": "ipython",
    "version": 3
   },
   "file_extension": ".py",
   "mimetype": "text/x-python",
   "name": "python",
   "nbconvert_exporter": "python",
   "pygments_lexer": "ipython3",
   "version": "3.7.6"
  }
 },
 "nbformat": 4,
 "nbformat_minor": 4
}
